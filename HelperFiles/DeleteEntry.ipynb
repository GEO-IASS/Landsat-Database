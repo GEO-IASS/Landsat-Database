{
 "metadata": {
  "name": "",
  "signature": "sha256:b09c0393fc1725c7c3c6badfba4fa3a88338222713f813218f7138e5c6a91f0f"
 },
 "nbformat": 3,
 "nbformat_minor": 0,
 "worksheets": [
  {
   "cells": [
    {
     "cell_type": "code",
     "collapsed": false,
     "input": [
      "#This script will help delete files from the shapefile and SQLite3 database. "
     ],
     "language": "python",
     "metadata": {},
     "outputs": []
    },
    {
     "cell_type": "code",
     "collapsed": false,
     "input": [
      "import sqlite3\n",
      "from collections import OrderedDict\n",
      "import fiona\n",
      "import json\n",
      "from json import *\n",
      "import gdal\n",
      "import shutil\n",
      "from osgeo import ogr\n",
      "import os"
     ],
     "language": "python",
     "metadata": {},
     "outputs": [],
     "prompt_number": 66
    },
    {
     "cell_type": "code",
     "collapsed": false,
     "input": [
      "conn = sqlite3.connect('SceneDatabase.db')\n",
      "c = conn.cursor()"
     ],
     "language": "python",
     "metadata": {},
     "outputs": [
      {
       "output_type": "stream",
       "stream": "stdout",
       "text": [
        "Updating database\n"
       ]
      }
     ],
     "prompt_number": 10
    },
    {
     "cell_type": "code",
     "collapsed": false,
     "input": [
      "#Show table in python if desired\n",
      "c.execute(\"Select * from yatsm\")\n",
      "table=c.fetchall()\n",
      "for x in table:\n",
      "    print x"
     ],
     "language": "python",
     "metadata": {},
     "outputs": [
      {
       "output_type": "stream",
       "stream": "stdout",
       "text": [
        "(1, 'CMS_Mexico', 20048, 'bullocke', '/projectnb/landsat/projects/CMS_Mexico/images/020048/images/p020r048_params.ini')\n",
        "(2, 'MODIS Near-Real Time', 49023, 'Eric B', '/projectnb/landsat/users/bullocke/BC/images/p049r023_params.ini')\n",
        "(3, 'MODIS Near-Real Time', 49023, 'Eric B', '/projectnb/landsat/users/bullocke/BC/images/p049r023_params.ini')\n"
       ]
      }
     ],
     "prompt_number": 59
    },
    {
     "cell_type": "code",
     "collapsed": false,
     "input": [
      "#Delete from .db database\n",
      "\n",
      "c = conn.cursor()\n",
      "conn.text_factory = str\n",
      "delModel = raw_input('Which model did you run? (YATSM/CCDC) ')\n",
      "delModel2 = delModel.upper()\n",
      "print delModel2\n",
      "delPR = raw_input('Which Path/Row would you like to delete? ')\n",
      "delPR2 = delPR.lstrip(\"0\")\n",
      "print delPR2\n",
      "print 'Deleting from database'\n",
      "if delModel2 == \"YATSM\":\n",
      "    query = \"DELETE FROM yatsm WHERE PathRow == '%s';\" % delPR2\n",
      "    c.execute(query)\n",
      "    conn.commit\n",
      "if delModel2 == \"CCDC\":\n",
      "    query = \"DELETE FROM ccdc WHERE PathRow = '%s');\" % delPR2\n",
      "    c.execute(query)\n",
      "    conn.commit\n"
     ],
     "language": "python",
     "metadata": {},
     "outputs": [
      {
       "name": "stdout",
       "output_type": "stream",
       "stream": "stdout",
       "text": [
        "Which model did you run? (YATSM/CCDC) yatsm\n"
       ]
      },
      {
       "output_type": "stream",
       "stream": "stdout",
       "text": [
        "YATSM\n"
       ]
      },
      {
       "name": "stdout",
       "output_type": "stream",
       "stream": "stdout",
       "text": [
        "Which Path/Row would you like to delete? 024049\n"
       ]
      },
      {
       "output_type": "stream",
       "stream": "stdout",
       "text": [
        "24049\n",
        "Deleting from database\n",
        "working\n"
       ]
      }
     ],
     "prompt_number": 45
    },
    {
     "cell_type": "code",
     "collapsed": false,
     "input": [
      "#Delete from shapefile\n",
      "shapefile = ogr.Open(\"/Users/ericbullock/Desktop/Work/code/Database/HelperFiles/PRmap.shp\",1 )\n",
      "ID = \n",
      "shapefile.DeleteFeature(ID)\n"
     ],
     "language": "python",
     "metadata": {},
     "outputs": [
      {
       "output_type": "stream",
       "stream": "stdout",
       "text": [
        "24049\n"
       ]
      }
     ],
     "prompt_number": 28
    },
    {
     "cell_type": "code",
     "collapsed": false,
     "input": [
      "ogrinfo /Users/ericbullock/Desktop/Work/code/Database/HelperFiles/PRmap.shp"
     ],
     "language": "python",
     "metadata": {},
     "outputs": [
      {
       "ename": "NameError",
       "evalue": "name 'ogrinfo' is not defined",
       "output_type": "pyerr",
       "traceback": [
        "\u001b[0;31m---------------------------------------------------------------------------\u001b[0m\n\u001b[0;31mNameError\u001b[0m                                 Traceback (most recent call last)",
        "\u001b[0;32m<ipython-input-47-fb43cf1d8999>\u001b[0m in \u001b[0;36m<module>\u001b[0;34m()\u001b[0m\n\u001b[0;32m----> 1\u001b[0;31m \u001b[0mogrinfo\u001b[0m \u001b[0;34m/\u001b[0m\u001b[0mUsers\u001b[0m\u001b[0;34m/\u001b[0m\u001b[0mericbullock\u001b[0m\u001b[0;34m/\u001b[0m\u001b[0mDesktop\u001b[0m\u001b[0;34m/\u001b[0m\u001b[0mWork\u001b[0m\u001b[0;34m/\u001b[0m\u001b[0mcode\u001b[0m\u001b[0;34m/\u001b[0m\u001b[0mDatabase\u001b[0m\u001b[0;34m/\u001b[0m\u001b[0mHelperFiles\u001b[0m\u001b[0;34m/\u001b[0m\u001b[0mPRmap\u001b[0m\u001b[0;34m.\u001b[0m\u001b[0mshp\u001b[0m\u001b[0;34m\u001b[0m\u001b[0m\n\u001b[0m",
        "\u001b[0;31mNameError\u001b[0m: name 'ogrinfo' is not defined"
       ]
      }
     ],
     "prompt_number": 47
    },
    {
     "cell_type": "code",
     "collapsed": false,
     "input": [
      "shapefile = \"/Users/ericbullock/Desktop/Work/code/Database/HelperFiles/PRmap.shp\"\n",
      "driver = ogr.GetDriverByName(\"ESRI Shapefile\")\n",
      "dataSource = driver.Open(shapefile, 0)\n",
      "layer = dataSource.GetLayer()\n",
      "layer.SetAttributeFilter(\"Model = 'ccdc'\")\n",
      "\n",
      "for feature in layer:\n",
      "    print feature.GetField(nFID)"
     ],
     "language": "python",
     "metadata": {},
     "outputs": [
      {
       "ename": "NameError",
       "evalue": "name 'nFID' is not defined",
       "output_type": "pyerr",
       "traceback": [
        "\u001b[0;31m---------------------------------------------------------------------------\u001b[0m\n\u001b[0;31mNameError\u001b[0m                                 Traceback (most recent call last)",
        "\u001b[0;32m<ipython-input-57-6e07c7aadcc9>\u001b[0m in \u001b[0;36m<module>\u001b[0;34m()\u001b[0m\n\u001b[1;32m      6\u001b[0m \u001b[0;34m\u001b[0m\u001b[0m\n\u001b[1;32m      7\u001b[0m \u001b[0;32mfor\u001b[0m \u001b[0mfeature\u001b[0m \u001b[0;32min\u001b[0m \u001b[0mlayer\u001b[0m\u001b[0;34m:\u001b[0m\u001b[0;34m\u001b[0m\u001b[0m\n\u001b[0;32m----> 8\u001b[0;31m     \u001b[0;32mprint\u001b[0m \u001b[0mfeature\u001b[0m\u001b[0;34m.\u001b[0m\u001b[0mGetField\u001b[0m\u001b[0;34m(\u001b[0m\u001b[0mnFID\u001b[0m\u001b[0;34m)\u001b[0m\u001b[0;34m\u001b[0m\u001b[0m\n\u001b[0m",
        "\u001b[0;31mNameError\u001b[0m: name 'nFID' is not defined"
       ]
      }
     ],
     "prompt_number": 57
    },
    {
     "cell_type": "code",
     "collapsed": false,
     "input": [
      "#bash\n",
      "os.system(\"ogr2ogr -f 'ESRI Shapefile' -where 'WRS2 <> 49023' tmp/PRmap.shp PRmap.shp\")\n",
      "#os.remove(\"PRmap.shp\")\n",
      "shutil.move(tmp/PRmap.shp, PRmap.shp)"
     ],
     "language": "python",
     "metadata": {},
     "outputs": [
      {
       "ename": "NameError",
       "evalue": "name 'tmp' is not defined",
       "output_type": "pyerr",
       "traceback": [
        "\u001b[0;31m---------------------------------------------------------------------------\u001b[0m\n\u001b[0;31mNameError\u001b[0m                                 Traceback (most recent call last)",
        "\u001b[0;32m<ipython-input-68-559b8e5e4523>\u001b[0m in \u001b[0;36m<module>\u001b[0;34m()\u001b[0m\n\u001b[1;32m      2\u001b[0m \u001b[0mos\u001b[0m\u001b[0;34m.\u001b[0m\u001b[0msystem\u001b[0m\u001b[0;34m(\u001b[0m\u001b[0;34m\"ogr2ogr -f 'ESRI Shapefile' -where 'WRS2 <> 49023' tmp/PRmap.shp PRmap.shp\"\u001b[0m\u001b[0;34m)\u001b[0m\u001b[0;34m\u001b[0m\u001b[0m\n\u001b[1;32m      3\u001b[0m \u001b[0;31m#os.remove(\"PRmap.shp\")\u001b[0m\u001b[0;34m\u001b[0m\u001b[0;34m\u001b[0m\u001b[0m\n\u001b[0;32m----> 4\u001b[0;31m \u001b[0mshutil\u001b[0m\u001b[0;34m.\u001b[0m\u001b[0mmove\u001b[0m\u001b[0;34m(\u001b[0m\u001b[0mtmp\u001b[0m\u001b[0;34m/\u001b[0m\u001b[0mPRmap\u001b[0m\u001b[0;34m.\u001b[0m\u001b[0mshp\u001b[0m\u001b[0;34m,\u001b[0m \u001b[0mPRmap\u001b[0m\u001b[0;34m.\u001b[0m\u001b[0mshp\u001b[0m\u001b[0;34m)\u001b[0m\u001b[0;34m\u001b[0m\u001b[0m\n\u001b[0m",
        "\u001b[0;31mNameError\u001b[0m: name 'tmp' is not defined"
       ]
      }
     ],
     "prompt_number": 68
    },
    {
     "cell_type": "code",
     "collapsed": false,
     "input": [],
     "language": "python",
     "metadata": {},
     "outputs": []
    }
   ],
   "metadata": {}
  }
 ]
}