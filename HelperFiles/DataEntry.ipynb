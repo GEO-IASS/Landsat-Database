{
 "metadata": {
  "name": "",
  "signature": "sha256:a35fa43f661e15efd3d26012138c93b14530ea5019da8c49700f80c67ac39d27"
 },
 "nbformat": 3,
 "nbformat_minor": 0,
 "worksheets": [
  {
   "cells": [
    {
     "cell_type": "code",
     "collapsed": false,
     "input": [
      "import sqlite3\n",
      "from collections import OrderedDict\n",
      "import fiona\n",
      "import json\n",
      "from json import *\n",
      "import gdal\n",
      "from osgeo import ogr\n",
      "import os"
     ],
     "language": "python",
     "metadata": {},
     "outputs": [],
     "prompt_number": 1
    },
    {
     "cell_type": "code",
     "collapsed": false,
     "input": [
      "#Retrieve variables\n",
      "modeltype = raw_input(\"YATSM or CCDC?\")\n",
      "projectname = raw_input(\"Enter project name:\")\n",
      "pathrow1 = raw_input(\"Enter Path Row PPPRRR:\")\n",
      "if modeltype == \"YATSM\" or modeltype == \"yatsm\":\n",
      "    locationname = raw_input(\"Enter location on server of parameter file:\")\n",
      "    username = raw_input(\"Enter the user who processed the scene:\")\n",
      "elif modeltype == \"CCDC\" or modeltype == \"ccdc\":\n",
      "    minRMSE = raw_input(\"Enter the minimum RMSE (If unknown just press [ENTER]):\")\n",
      "    changeprob = raw_input(\"Enter the probability of change value (If unknown just press [ENTER]):\")\n",
      "    noiseprob = raw_input(\"Enter the noise probability value (If unknown just press [ENTER]):\")\n",
      "    coefs = raw_input(\"Enter the number of coefficients used (If unknown just press [ENTER]):\")\n",
      "    stacklocation = raw_input(\"Enter the location of the image stack on the server:\")            \n",
      "else:\n",
      "    print \"Please try the script again\"\n",
      "    exit()"
     ],
     "language": "python",
     "metadata": {},
     "outputs": [
      {
       "name": "stdout",
       "output_type": "stream",
       "stream": "stdout",
       "text": [
        "YATSM or CCDC?yatsm\n"
       ]
      },
      {
       "name": "stdout",
       "output_type": "stream",
       "stream": "stdout",
       "text": [
        "Enter project name:MODIS Near-Real Time\n"
       ]
      },
      {
       "name": "stdout",
       "output_type": "stream",
       "stream": "stdout",
       "text": [
        "Enter Path Row PPPRRR:049023\n"
       ]
      },
      {
       "name": "stdout",
       "output_type": "stream",
       "stream": "stdout",
       "text": [
        "Enter location on server of parameter file:/projectnb/landsat/users/bullocke/BC/images/p049r023_params.ini\n"
       ]
      },
      {
       "name": "stdout",
       "output_type": "stream",
       "stream": "stdout",
       "text": [
        "Enter the user who processed the scene:Eric B\n"
       ]
      }
     ],
     "prompt_number": 24
    },
    {
     "cell_type": "code",
     "collapsed": false,
     "input": [
      "pathrow2=pathrow1.lstrip(\"0\")"
     ],
     "language": "python",
     "metadata": {},
     "outputs": [],
     "prompt_number": 25
    },
    {
     "cell_type": "code",
     "collapsed": false,
     "input": [
      "#Prepare the variables for the YATSM shapefile\n",
      "pathrow2 = pathrow1.lstrip(\"0\")\n",
      "_pr = int(pathrow2)\n",
      "_project = projectname\n",
      "_author = username\n",
      "_location = locationname\n",
      "\n",
      "_properties = OrderedDict([\n",
      "    ['WRS2', 'int'],\n",
      "    ['Project', 'str'],\n",
      "    ['Author', 'str'],\n",
      "    ['Location', 'str']\n",
      "])\n"
     ],
     "language": "python",
     "metadata": {},
     "outputs": [],
     "prompt_number": 26
    },
    {
     "cell_type": "code",
     "collapsed": false,
     "input": [
      "#Prepare the schema\n",
      "_schema = {'geometry': 'Polygon',\n",
      "           'properties': _properties\n",
      "           }"
     ],
     "language": "python",
     "metadata": {},
     "outputs": [],
     "prompt_number": 27
    },
    {
     "cell_type": "code",
     "collapsed": false,
     "input": [
      "#Match PathRow with WRS2 shapefile\n",
      "source = fiona.open('/Users/ericbullock/Desktop/Work/code/Database/HelperFiles/wrs2_descending.shp')\n",
      "for rec in source:\n",
      "    if rec['properties']['WRSPR'] == _pr:\n",
      "        break"
     ],
     "language": "python",
     "metadata": {},
     "outputs": [],
     "prompt_number": 28
    },
    {
     "cell_type": "code",
     "collapsed": false,
     "input": [
      "#Update the database shapefile for YATSM\n",
      "with fiona.open('/Users/ericbullock/Desktop/Work/code/Database/HelperFiles/PRmap.shp') as f:\n",
      "    elem = next(f)\n",
      "    elem['geometry'] = rec['geometry']\n",
      "    elem['properties'] = {\n",
      "        'WRS2': _pr,\n",
      "        'Project': _project,\n",
      "        'Author': _author,\n",
      "        'Location': _location,\n",
      "}\n",
      "with fiona.open('/Users/ericbullock/Desktop/Work/code/Database/HelperFiles/PRmap.shp', 'a') as f:\n",
      "    f.write(elem)"
     ],
     "language": "python",
     "metadata": {},
     "outputs": [],
     "prompt_number": 32
    },
    {
     "cell_type": "code",
     "collapsed": false,
     "input": [
      "#Convert shapefile to .GeoJSON to be used on GitHub using Leaflet.js\n",
      "Print \"Updating GeoJSON file\"\n",
      "os.remove(\"PRmap.geojson\")\n",
      "os.system(\"ogr2ogr -f GeoJSON -t_srs crs:84 PRmap.geojson /Users/ericbullock/Desktop/Work/code/Database/HelperFiles/PRmap.shp\")"
     ],
     "language": "python",
     "metadata": {},
     "outputs": [
      {
       "metadata": {},
       "output_type": "pyout",
       "prompt_number": 33,
       "text": [
        "0"
       ]
      }
     ],
     "prompt_number": 33
    },
    {
     "cell_type": "code",
     "collapsed": false,
     "input": [
      "#Start process of updating database\n",
      "print 'Updating database'\n",
      "conn = sqlite3.connect('SceneDatabase.db')\n",
      "c = conn.cursor()"
     ],
     "language": "python",
     "metadata": {},
     "outputs": [
      {
       "output_type": "stream",
       "stream": "stdout",
       "text": [
        "Updating database\n"
       ]
      }
     ],
     "prompt_number": 42
    },
    {
     "cell_type": "code",
     "collapsed": false,
     "input": [
      "#Define data entry functions\n",
      "def yatsmDataEntry():\n",
      "    c.execute(\"INSERT INTO yatsm(Project, PathRow, User, Location) VALUES(?,?,?,?)\",\n",
      "              (projectname, pathrow1, username, locationname))\n",
      "    conn.commit()\n",
      "    \n",
      "def ccdcDataEntry():\n",
      "    c.execute(\"INSERT INTO ccdc(Project, PathRow, User, MinRMSE, ChangeProb, NoiseProb, ConsecChange, Coef, LocationCCDC) VALUES(?,?,?,?,?,?,?,?,?)\"\n",
      "              (projectnbame, pathrow1, username, minRMSE, changeprob, noiseprob, coefs, stacklocation))\n",
      "    conn.commit()"
     ],
     "language": "python",
     "metadata": {},
     "outputs": [],
     "prompt_number": 45
    },
    {
     "cell_type": "code",
     "collapsed": false,
     "input": [
      "if modeltype == \"YATSM\" or modeltype == \"yatsm\":\n",
      "    yatsmDataEntry()\n",
      "if modeltype == \"CCDC\" or modeltype == \"ccdc\":\n",
      "    ccdcDataEntry()"
     ],
     "language": "python",
     "metadata": {},
     "outputs": [],
     "prompt_number": 46
    },
    {
     "cell_type": "code",
     "collapsed": false,
     "input": [
      "c.execute(\"Select * from yatsm\")\n",
      "table=c.fetchall()\n",
      "for x in table:\n",
      "    print x"
     ],
     "language": "python",
     "metadata": {},
     "outputs": [
      {
       "output_type": "stream",
       "stream": "stdout",
       "text": [
        "(1, u'CMS_Mexico', 20048, u'bullocke', u'/projectnb/landsat/projects/CMS_Mexico/images/020048/images/p020r048_params.ini')\n",
        "(2, u'MODIS Near-Real Time', 49023, u'Eric B', u'/projectnb/landsat/users/bullocke/BC/images/p049r023_params.ini')\n",
        "(3, u'MODIS Near-Real Time', 49023, u'Eric B', u'/projectnb/landsat/users/bullocke/BC/images/p049r023_params.ini')\n"
       ]
      }
     ],
     "prompt_number": 47
    },
    {
     "cell_type": "code",
     "collapsed": false,
     "input": [
      "c.execute(\"Select * from ccdc3\")\n",
      "table=c.fetchall()\n",
      "for x in table:\n",
      "    print x"
     ],
     "language": "python",
     "metadata": {},
     "outputs": []
    },
    {
     "cell_type": "code",
     "collapsed": false,
     "input": [],
     "language": "python",
     "metadata": {},
     "outputs": []
    },
    {
     "cell_type": "code",
     "collapsed": false,
     "input": [],
     "language": "python",
     "metadata": {},
     "outputs": [
      {
       "output_type": "stream",
       "stream": "stdout",
       "text": [
        "test\n"
       ]
      }
     ],
     "prompt_number": 41
    }
   ],
   "metadata": {}
  }
 ]
}