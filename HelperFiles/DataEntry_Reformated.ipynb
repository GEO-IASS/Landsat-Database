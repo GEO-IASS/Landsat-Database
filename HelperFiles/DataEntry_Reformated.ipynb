{
 "metadata": {
  "name": "",
  "signature": "sha256:a1cd643ee93ad77df382067d37e7cc110149901686d7d5f75a162e4d2dc7829e"
 },
 "nbformat": 3,
 "nbformat_minor": 0,
 "worksheets": [
  {
   "cells": [
    {
     "cell_type": "code",
     "collapsed": false,
     "input": [
      "import sqlite3\n",
      "from collections import OrderedDict\n",
      "import fiona\n",
      "import json\n",
      "from pandas import *\n",
      "from json import *\n",
      "import gdal\n",
      "import psycopg2\n",
      "from osgeo import ogr\n",
      "import os\n",
      "import collections"
     ],
     "language": "python",
     "metadata": {},
     "outputs": [],
     "prompt_number": 2
    },
    {
     "cell_type": "code",
     "collapsed": false,
     "input": [
      "#Retrieve variables\n",
      "modeltype = raw_input(\"YATSM or CCDC? \")\n",
      "model = modeltype.upper()\n",
      "projectname = raw_input(\"Enter project name: \")\n",
      "pathrow1 = raw_input(\"Enter Path Row PPPRRR: \")\n",
      "if model == \"YATSM\":\n",
      "    locationname = raw_input(\"Enter location on server of parameter file: \")\n",
      "    username = raw_input(\"Enter the user who processed the scene: \")\n",
      "elif model == \"CCDC\":\n",
      "    minRMSE = raw_input(\"Enter the minimum RMSE (If unknown just press [ENTER]): \")\n",
      "    changeprob = raw_input(\"Enter the probability of change value (If unknown just press [ENTER]): \")\n",
      "    noiseprob = raw_input(\"Enter the noise probability value (If unknown just press [ENTER]): \")\n",
      "    coefs = raw_input(\"Enter the number of coefficients used (If unknown just press [ENTER]): \")\n",
      "    stacklocation = raw_input(\"Enter the location of the image stack on the server: \")            \n",
      "else:\n",
      "    print \"Please try the script again\"\n",
      "    exit()\n",
      "    \n",
      "if model == \"YATSM\":\n",
      "    print 'Your scene characteristics are:\\nModel Run: %s\\nPathRow: %s\\nParameter Location: %s\\nProcesing User: %s' % (modeltype, pathrow1, locationname, username)\n",
      "    answer = raw_input(\"Is this correct? y/n \")\n",
      "else:\n",
      "    print 'Your scene characteristics are:\\nModel Run: %s\\nPathRow: %s\\nMinimum RMSE: %s\\nChange Probability: %s\\nNoise Probability: %s\\nCoefficients: %s\\nStack Location: %s\\n' %(modeltype, pathrow1, minRMSE, changeprob, noiseprob, coefs, stacklocation)\n",
      "    answer = raw_input(\"Is this correct? y/n \")\n",
      "    \n",
      "if answer == 'n':\n",
      "    exit()"
     ],
     "language": "python",
     "metadata": {},
     "outputs": [
      {
       "name": "stdout",
       "output_type": "stream",
       "stream": "stdout",
       "text": [
        "YATSM or CCDC? cs\n"
       ]
      },
      {
       "name": "stdout",
       "output_type": "stream",
       "stream": "stdout",
       "text": [
        "Enter project name: s\n"
       ]
      },
      {
       "name": "stdout",
       "output_type": "stream",
       "stream": "stdout",
       "text": [
        "Enter Path Row PPPRRR: s\n"
       ]
      },
      {
       "output_type": "stream",
       "stream": "stdout",
       "text": [
        "Please try the script again\n"
       ]
      },
      {
       "ename": "NameError",
       "evalue": "name 'minRMSE' is not defined",
       "output_type": "pyerr",
       "traceback": [
        "\u001b[0;31m---------------------------------------------------------------------------\u001b[0m\n\u001b[0;31mNameError\u001b[0m                                 Traceback (most recent call last)",
        "\u001b[0;32m<ipython-input-61-73e43670da6b>\u001b[0m in \u001b[0;36m<module>\u001b[0;34m()\u001b[0m\n\u001b[1;32m     21\u001b[0m     \u001b[0manswer\u001b[0m \u001b[0;34m=\u001b[0m \u001b[0mraw_input\u001b[0m\u001b[0;34m(\u001b[0m\u001b[0;34m\"Is this correct? y/n \"\u001b[0m\u001b[0;34m)\u001b[0m\u001b[0;34m\u001b[0m\u001b[0m\n\u001b[1;32m     22\u001b[0m \u001b[0;32melse\u001b[0m\u001b[0;34m:\u001b[0m\u001b[0;34m\u001b[0m\u001b[0m\n\u001b[0;32m---> 23\u001b[0;31m     \u001b[0;32mprint\u001b[0m \u001b[0;34m'Your scene characteristics are:\\nModel Run: %s\\nPathRow: %s\\nMinimum RMSE: %s\\nChange Probability: %s\\nNoise Probability: %s\\nCoefficients: %s\\nStack Location: %s\\n'\u001b[0m \u001b[0;34m%\u001b[0m\u001b[0;34m(\u001b[0m\u001b[0mmodeltype\u001b[0m\u001b[0;34m,\u001b[0m \u001b[0mpathrow1\u001b[0m\u001b[0;34m,\u001b[0m \u001b[0mminRMSE\u001b[0m\u001b[0;34m,\u001b[0m \u001b[0mchangeprob\u001b[0m\u001b[0;34m,\u001b[0m \u001b[0mnoiseprob\u001b[0m\u001b[0;34m,\u001b[0m \u001b[0mcoefs\u001b[0m\u001b[0;34m,\u001b[0m \u001b[0mstacklocation\u001b[0m\u001b[0;34m)\u001b[0m\u001b[0;34m\u001b[0m\u001b[0m\n\u001b[0m\u001b[1;32m     24\u001b[0m     \u001b[0manswer\u001b[0m \u001b[0;34m=\u001b[0m \u001b[0mraw_input\u001b[0m\u001b[0;34m(\u001b[0m\u001b[0;34m\"Is this correct? y/n \"\u001b[0m\u001b[0;34m)\u001b[0m\u001b[0;34m\u001b[0m\u001b[0m\n\u001b[1;32m     25\u001b[0m \u001b[0;34m\u001b[0m\u001b[0m\n",
        "\u001b[0;31mNameError\u001b[0m: name 'minRMSE' is not defined"
       ]
      }
     ],
     "prompt_number": 61
    },
    {
     "cell_type": "code",
     "collapsed": false,
     "input": [
      "#Now first update the database\n",
      "print 'Updating database'\n",
      "conn = sqlite3.connect('SceneDatabase2.db')\n",
      "c = conn.cursor()\n"
     ],
     "language": "python",
     "metadata": {},
     "outputs": [
      {
       "output_type": "stream",
       "stream": "stdout",
       "text": [
        "Updating database\n"
       ]
      }
     ],
     "prompt_number": 8
    },
    {
     "cell_type": "code",
     "collapsed": false,
     "input": [
      "#Define data entry functions\n",
      "def yatsmDataEntry():\n",
      "    c.execute(\"INSERT INTO yatsm(Project, PathRow, User, Location) VALUES(?,?,?,?)\",\n",
      "              (projectname, pathrow1, username, locationname))\n",
      "    conn.commit()\n",
      "    \n",
      "def ccdcDataEntry():\n",
      "    c.execute(\"INSERT INTO ccdc(Project, PathRow, User, MinRMSE, ChangeProb, NoiseProb, ConsecChange, Coef, LocationCCDC) VALUES(?,?,?,?,?,?,?,?,?)\",\n",
      "              (projectname, pathrow1, username, minRMSE, changeprob, noiseprob, coefs, locationname))\n",
      "    conn.commit()\n",
      "    \n",
      "def bothDataEntry():\n",
      "    c.execute(\"INSERT INTO both(Project, PathRow, User, Model, Location) VALUES(?,?,?,?,?)\",\n",
      "              (projectname, pathrow1, username, model, locationname))\n",
      "    conn.commit()\n",
      "\n",
      "    "
     ],
     "language": "python",
     "metadata": {},
     "outputs": [],
     "prompt_number": 32
    },
    {
     "cell_type": "code",
     "collapsed": false,
     "input": [
      "#Update tables\n",
      "if model == \"YATSM\":\n",
      "    yatsmDataEntry()\n",
      "if model == \"CCDC\":\n",
      "    ccdcDataEntry()\n",
      "    \n",
      "bothDataEntry()"
     ],
     "language": "python",
     "metadata": {},
     "outputs": [],
     "prompt_number": 33
    },
    {
     "cell_type": "code",
     "collapsed": false,
     "input": [
      "#Make array from the table\n",
      "c.execute('Select * from both')\n",
      "rows = c.fetchall()\n",
      "print rows"
     ],
     "language": "python",
     "metadata": {},
     "outputs": [
      {
       "output_type": "stream",
       "stream": "stdout",
       "text": [
        "[(1, u'CMS_Mexico', 20047, u'Eric', u'YATSM', u'test/test'), (2, u'test project', 45823, u'Wric', u'YATSM', u'testign ')]\n"
       ]
      }
     ],
     "prompt_number": 17
    },
    {
     "cell_type": "code",
     "collapsed": false,
     "input": [],
     "language": "python",
     "metadata": {},
     "outputs": []
    },
    {
     "cell_type": "code",
     "collapsed": false,
     "input": [
      "cursor = conn.cursor()\n",
      "both_list=[]\n",
      "for row in rows:\n",
      "    t = (row.Project, row.PathRow, row.User, row.Model, row.Location)\n",
      "    both_list.append(t)"
     ],
     "language": "python",
     "metadata": {},
     "outputs": [
      {
       "ename": "OperationalError",
       "evalue": "could not connect to server: No such file or directory\n\tIs the server running locally and accepting\n\tconnections on Unix domain socket \"/tmp/.s.PGSQL.5432\"?\n",
       "output_type": "pyerr",
       "traceback": [
        "\u001b[0;31m---------------------------------------------------------------------------\u001b[0m\n\u001b[0;31mOperationalError\u001b[0m                          Traceback (most recent call last)",
        "\u001b[0;32m<ipython-input-7-d6a44ee39380>\u001b[0m in \u001b[0;36m<module>\u001b[0;34m()\u001b[0m\n\u001b[1;32m      1\u001b[0m \u001b[0;34m\u001b[0m\u001b[0m\n\u001b[0;32m----> 2\u001b[0;31m \u001b[0mconn\u001b[0m \u001b[0;34m=\u001b[0m \u001b[0mpsycopg2\u001b[0m\u001b[0;34m.\u001b[0m\u001b[0mconnect\u001b[0m\u001b[0;34m(\u001b[0m\u001b[0;34m'dbname=SceneDatabase2.db'\u001b[0m\u001b[0;34m)\u001b[0m\u001b[0;34m\u001b[0m\u001b[0m\n\u001b[0m\u001b[1;32m      3\u001b[0m \u001b[0mcursor\u001b[0m \u001b[0;34m=\u001b[0m \u001b[0mconn\u001b[0m\u001b[0;34m.\u001b[0m\u001b[0mcursor\u001b[0m\u001b[0;34m(\u001b[0m\u001b[0;34m)\u001b[0m\u001b[0;34m\u001b[0m\u001b[0m\n\u001b[1;32m      4\u001b[0m \u001b[0mboth_list\u001b[0m\u001b[0;34m=\u001b[0m\u001b[0;34m[\u001b[0m\u001b[0;34m]\u001b[0m\u001b[0;34m\u001b[0m\u001b[0m\n\u001b[1;32m      5\u001b[0m \u001b[0;32mfor\u001b[0m \u001b[0mrow\u001b[0m \u001b[0;32min\u001b[0m \u001b[0mrows\u001b[0m\u001b[0;34m:\u001b[0m\u001b[0;34m\u001b[0m\u001b[0m\n",
        "\u001b[0;32m/Users/ericbullock/anaconda/lib/python2.7/site-packages/psycopg2/__init__.pyc\u001b[0m in \u001b[0;36mconnect\u001b[0;34m(dsn, database, user, password, host, port, connection_factory, cursor_factory, async, **kwargs)\u001b[0m\n\u001b[1;32m    162\u001b[0m                 for (k, v) in items])\n\u001b[1;32m    163\u001b[0m \u001b[0;34m\u001b[0m\u001b[0m\n\u001b[0;32m--> 164\u001b[0;31m     \u001b[0mconn\u001b[0m \u001b[0;34m=\u001b[0m \u001b[0m_connect\u001b[0m\u001b[0;34m(\u001b[0m\u001b[0mdsn\u001b[0m\u001b[0;34m,\u001b[0m \u001b[0mconnection_factory\u001b[0m\u001b[0;34m=\u001b[0m\u001b[0mconnection_factory\u001b[0m\u001b[0;34m,\u001b[0m \u001b[0masync\u001b[0m\u001b[0;34m=\u001b[0m\u001b[0masync\u001b[0m\u001b[0;34m)\u001b[0m\u001b[0;34m\u001b[0m\u001b[0m\n\u001b[0m\u001b[1;32m    165\u001b[0m     \u001b[0;32mif\u001b[0m \u001b[0mcursor_factory\u001b[0m \u001b[0;32mis\u001b[0m \u001b[0;32mnot\u001b[0m \u001b[0mNone\u001b[0m\u001b[0;34m:\u001b[0m\u001b[0;34m\u001b[0m\u001b[0m\n\u001b[1;32m    166\u001b[0m         \u001b[0mconn\u001b[0m\u001b[0;34m.\u001b[0m\u001b[0mcursor_factory\u001b[0m \u001b[0;34m=\u001b[0m \u001b[0mcursor_factory\u001b[0m\u001b[0;34m\u001b[0m\u001b[0m\n",
        "\u001b[0;31mOperationalError\u001b[0m: could not connect to server: No such file or directory\n\tIs the server running locally and accepting\n\tconnections on Unix domain socket \"/tmp/.s.PGSQL.5432\"?\n"
       ]
      }
     ],
     "prompt_number": 7
    },
    {
     "cell_type": "code",
     "collapsed": false,
     "input": [],
     "language": "python",
     "metadata": {},
     "outputs": []
    },
    {
     "cell_type": "code",
     "collapsed": false,
     "input": [
      "#Prepare the variables for the YATSM shapefile\n",
      "pathrow2 = pathrow1.lstrip(\"0\")\n",
      "_model = modeltype\n",
      "_pr = int(pathrow2)\n",
      "_project = projectname\n",
      "_author = username\n",
      "_location = locationname\n",
      "_fill = fillcolor\n",
      "_stroke = strokecolor\n",
      "_opaque = opaquenumb\n",
      "\n",
      "_properties = OrderedDict([\n",
      "    ['fill', 'str'],\n",
      "    ['stroke', 'str'],\n",
      "    ['fill-opacity', 'int'],\n",
      "    ['Model', 'str'],\n",
      "    ['WRS2', 'int'],\n",
      "    ['Project', 'str'],\n",
      "    ['Author', 'str'],\n",
      "    ['Location', 'str']\n",
      "])\n",
      "\n",
      "#styling\n",
      "strokecolor = '000000'\n",
      "opaquenumb = 1\n",
      "if modeltype == 'yatsm' or modeltype == 'YATSM':\n",
      "    fillcolor = 'CC0000'\n",
      "else:\n",
      "    fillcolor = '3333FF'\n"
     ],
     "language": "python",
     "metadata": {},
     "outputs": [],
     "prompt_number": 38
    },
    {
     "cell_type": "code",
     "collapsed": false,
     "input": [
      "#Prepare the schema\n",
      "_schema = {'geometry': 'Polygon',\n",
      "           'properties': _properties,\n",
      "           'style': _style\n",
      "           }"
     ],
     "language": "python",
     "metadata": {},
     "outputs": [],
     "prompt_number": 47
    },
    {
     "cell_type": "code",
     "collapsed": false,
     "input": [
      "#Match PathRow with WRS2 shapefile\n",
      "source = fiona.open('/Users/ericbullock/Desktop/Work/code/Database/HelperFiles/wrs2_descending.shp')\n",
      "for rec in source:\n",
      "    if rec['properties']['WRSPR'] == _pr:\n",
      "        break"
     ],
     "language": "python",
     "metadata": {},
     "outputs": [],
     "prompt_number": 40
    },
    {
     "cell_type": "code",
     "collapsed": false,
     "input": [
      "#Update the database shapefile for YATSM\n",
      "with fiona.open('/Users/ericbullock/Desktop/Work/code/Database/HelperFiles/PRmap.shp') as f:\n",
      "    elem = next(f)\n",
      "    elem['geometry'] = rec['geometry']\n",
      "    elem['properties'] = {\n",
      "        'fill': _fill,\n",
      "        'stroke': _stroke,\n",
      "        'Model': _model,\n",
      "        'WRS2': _pr,\n",
      "        'Project': _project,\n",
      "        'Author': _author,\n",
      "        'Location': _location,\n",
      "}\n",
      "with fiona.open('/Users/ericbullock/Desktop/Work/code/Database/HelperFiles/PRmap.shp', 'a') as f:\n",
      "    f.write(elem)"
     ],
     "language": "python",
     "metadata": {},
     "outputs": [],
     "prompt_number": 53
    },
    {
     "cell_type": "code",
     "collapsed": false,
     "input": [
      "#Convert shapefile to .GeoJSON to be used on GitHub using Leaflet.js\n",
      "print \"Updating GeoJSON file\"\n",
      "os.remove(\"PRmap.geojson\")\n",
      "os.system(\"ogr2ogr -f GeoJSON -t_srs crs:84 PRmap.geojson /Users/ericbullock/Desktop/Work/code/Database/HelperFiles/PRmap.shp\")"
     ],
     "language": "python",
     "metadata": {},
     "outputs": [
      {
       "output_type": "stream",
       "stream": "stdout",
       "text": [
        "Updating GeoJSON file\n"
       ]
      },
      {
       "metadata": {},
       "output_type": "pyout",
       "prompt_number": 54,
       "text": [
        "0"
       ]
      }
     ],
     "prompt_number": 54
    },
    {
     "cell_type": "code",
     "collapsed": false,
     "input": [
      "#Start process of updating database\n",
      "print 'Updating database'\n",
      "conn = sqlite3.connect('SceneDatabase.db')\n",
      "c = conn.cursor()"
     ],
     "language": "python",
     "metadata": {},
     "outputs": [
      {
       "output_type": "stream",
       "stream": "stdout",
       "text": [
        "Updating database\n"
       ]
      }
     ],
     "prompt_number": 2
    },
    {
     "cell_type": "code",
     "collapsed": false,
     "input": [
      "Show table in python if desired\n",
      "c.execute(\"Select * from yatsm\")\n",
      "table=c.fetchall()\n",
      "for x in table:\n",
      "    print x"
     ],
     "language": "python",
     "metadata": {},
     "outputs": [
      {
       "output_type": "stream",
       "stream": "stdout",
       "text": [
        "(1, u'CMS_Mexico', 20048, u'bullocke', u'/projectnb/landsat/projects/CMS_Mexico/images/020048/images/p020r048_params.ini')\n",
        "(2, u'MODIS Near-Real Time', 49023, u'Eric B', u'/projectnb/landsat/users/bullocke/BC/images/p049r023_params.ini')\n",
        "(3, u'MODIS Near-Real Time', 49023, u'Eric B', u'/projectnb/landsat/users/bullocke/BC/images/p049r023_params.ini')\n"
       ]
      }
     ],
     "prompt_number": 47
    },
    {
     "cell_type": "code",
     "collapsed": false,
     "input": [
      "#Update CSV File for yatsm\n",
      "import csv\n",
      "print 'Updating CSV'\n",
      "if modeltype == \"YATSM\" or modeltype == \"yatsm\":\n",
      "    c.execute('select * from yatsm')\n",
      "    with open('YATSM_Scenes.csv', 'wb') as fout:\n",
      "        writer = csv.writer(fout)\n",
      "        writer.writerow(['ID','Project','Path Row', 'User', 'Parameter File Location']) # heading row\n",
      "        writer.writerows(c.fetchall())\n",
      "if modeltype == \"CCDC\" or modeltype == \"ccdc\":\n",
      "    c.execute('select * from ccdc')\n",
      "    with open('CCDC_Scenes.csv', 'wb') as fout:\n",
      "        writer = csv.writer(fout)\n",
      "        writer.writerow(['ID','Project','Path Row', 'User', 'MinRMSE', 'Change Probability', 'Noise Probability', '# Coefficients', 'Stack Location']) # heading row\n",
      "        writer.writerows(c.fetchall())\n"
     ],
     "language": "python",
     "metadata": {},
     "outputs": [],
     "prompt_number": 24
    },
    {
     "cell_type": "code",
     "collapsed": false,
     "input": [],
     "language": "python",
     "metadata": {},
     "outputs": []
    }
   ],
   "metadata": {}
  }
 ]
}